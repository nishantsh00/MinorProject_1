{
 "cells": [
  {
   "cell_type": "markdown",
   "id": "5161289a-78d8-44a1-a878-1224620ec679",
   "metadata": {},
   "source": [
    "## GENERATING DATA "
   ]
  },
  {
   "cell_type": "code",
   "execution_count": 1,
   "id": "19406d7e-2af9-4e96-bd18-62ede5e55435",
   "metadata": {},
   "outputs": [],
   "source": [
    "import pandas as pd\n",
    "import numpy as np \n",
    "import random \n",
    "from faker import Faker"
   ]
  },
  {
   "cell_type": "markdown",
   "id": "9cad1fd8-6257-4d68-8101-6c5ec1944dc4",
   "metadata": {},
   "source": [
    "#### STUDENT TABLE"
   ]
  },
  {
   "cell_type": "code",
   "execution_count": 2,
   "id": "8a2d0dad-ebf2-46aa-a4a3-b9ce415f63a3",
   "metadata": {},
   "outputs": [],
   "source": [
    "fake = Faker(\"en_IN\")\n",
    "\n",
    "# Define course durations\n",
    "course_durations = {\"Data Science\": 1}\n",
    "\n",
    "def create_student_table(num_students): \n",
    "    student_table = []\n",
    "\n",
    "    for _ in range(num_students):\n",
    "        student = {}\n",
    "        student[\"student_id\"] = fake.unique.random_int(min=1, max=500)\n",
    "        student['name'] = fake.name()\n",
    "        \n",
    "        student['age'] = fake.random_int(min=18, max=25)\n",
    "        # For Gender we have to use different conditions \n",
    "        gender = random.choice([\"Male\", \"Female\"])\n",
    "        student[\"gender\"] = gender\n",
    "        \n",
    "        if gender == \"Male\":\n",
    "            first_name = fake.first_name_male()\n",
    "        else:\n",
    "            first_name = fake.first_name_female()\n",
    "            \n",
    "        #Now we comine first last name using formating    \n",
    "        last_name = fake.last_name()\n",
    "        student[\"name\"] = f\"{first_name} {last_name}\"\n",
    "        \n",
    "        student['email'] = fake.email()\n",
    "        student['phone_num'] = fake.phone_number()\n",
    "        student['city'] = fake.city()\n",
    "\n",
    "        # Choose a course and get its duration\n",
    "        course_batch = fake.random_element(elements=list(course_durations.keys()))\n",
    "        student['course_batch'] = course_batch\n",
    "        course_duration = course_durations[course_batch]\n",
    "\n",
    "        # Randomly choose enrollment year\n",
    "        enrollment_year = fake.random_element(elements=[2024])\n",
    "        student['enrollment_year'] = enrollment_year\n",
    "        student['graduation_year'] = enrollment_year + course_duration\n",
    "\n",
    "        student_table.append(student)\n",
    "\n",
    "    # Convert to DataFrame\n",
    "    df = pd.DataFrame(student_table)\n",
    "\n",
    "    # Sort by student_id in ascending order\n",
    "    df = df.sort_values(by='student_id').reset_index(drop=True)\n",
    "\n",
    "    return df\n"
   ]
  },
  {
   "cell_type": "code",
   "execution_count": 11,
   "id": "809a5d3c-452c-42e1-a278-020c9c3c4b9a",
   "metadata": {},
   "outputs": [],
   "source": [
    "#create_student_table(500)"
   ]
  },
  {
   "cell_type": "code",
   "execution_count": null,
   "id": "df96deb7-c4b0-4685-add8-1fa3aef6f8a5",
   "metadata": {},
   "outputs": [],
   "source": [
    "#create_student_table(500)"
   ]
  },
  {
   "cell_type": "code",
   "execution_count": 23,
   "id": "188ba08f-7d38-4231-8ff1-64e3eef1a4c4",
   "metadata": {},
   "outputs": [],
   "source": [
    "df_student_table = create_student_table(500)\n",
    "df_student_table.to_csv(\"Student_Table.csv\", index = False)"
   ]
  },
  {
   "cell_type": "markdown",
   "id": "65ccb4ab-4841-450f-a559-c38a33376a40",
   "metadata": {},
   "source": [
    "#### PROGRAMMING TABLE"
   ]
  },
  {
   "cell_type": "code",
   "execution_count": 5,
   "id": "0ecfec55-0521-447d-b973-9ad3b97f1368",
   "metadata": {},
   "outputs": [],
   "source": [
    "fake = Faker(\"en_IN\")\n",
    "\n",
    "language = ['Python','SQL']\n",
    "\n",
    "def create_programming_table(num_values):\n",
    "    programming_table = []\n",
    "    \n",
    "    for _ in range(num_values):\n",
    "        program = {}\n",
    "        program['programming_id'] = fake.unique.random_int(min=1000, max=1500)\n",
    "        program['student_id'] =  fake.unique.random_int(min=1, max=500)\n",
    "        program['language'] = ','.join(random.sample(language, 2,))\n",
    "        program['problems_solved'] = random.randint(40,80)\n",
    "        program['assessments_completed'] =  random.randint(2,10)\n",
    "        program['mini_projects'] = random.randint(1,5)\n",
    "        program['certifications_earned'] =  random.randint(1,7)\n",
    "        program['latest_project_score'] =  random.randint(30,90)\n",
    "        \n",
    "        programming_table.append(program)\n",
    "        \n",
    "        \n",
    "    df2= pd.DataFrame(programming_table)\n",
    "    df2 = df2.sort_values(by='student_id').reset_index(drop=True)\n",
    "    return df2\n"
   ]
  },
  {
   "cell_type": "code",
   "execution_count": 4,
   "id": "b9fbc797-cdfa-4ab0-ab67-2dd3f02a5144",
   "metadata": {},
   "outputs": [],
   "source": [
    "#create_programming_table(500)"
   ]
  },
  {
   "cell_type": "code",
   "execution_count": 6,
   "id": "137d3316-b966-4010-9af4-7e84ce317eff",
   "metadata": {},
   "outputs": [],
   "source": [
    "df_programming_table = create_programming_table(500)\n",
    "df_programming_table.to_csv(\"programming_table.csv\", index = False)"
   ]
  },
  {
   "cell_type": "markdown",
   "id": "e52b1d92-3b17-4c9a-8c11-50d8fd5a0160",
   "metadata": {},
   "source": [
    "#### SOFT SKILLS TABLE"
   ]
  },
  {
   "cell_type": "code",
   "execution_count": 6,
   "id": "3e1cf9bb-edac-4105-a814-e050de748484",
   "metadata": {},
   "outputs": [],
   "source": [
    "fake = Faker(\"en_IN\")\n",
    "def create_softskills_table(skill_score):\n",
    "    soft_skills_table = []\n",
    "    for _ in range(skill_score):\n",
    "        skills = {}\n",
    "        skills['soft_skill_id'] = fake.unique.random_int(min=2000, max=2500)\n",
    "        skills['student_id'] = fake.unique.random_int(min=1, max=500)\n",
    "        skills['communication'] = random.randint(50,100)\n",
    "        skills['teamwork'] = random.randint(50,100)\n",
    "        skills['presentation'] = random.randint(50,100)\n",
    "        skills['leadership'] = random.randint(50,100)\n",
    "        skills['critical_thinking'] = random.randint(50,100)\n",
    "        skills['interpersonal_skills'] = random.randint(50,100)\n",
    "        \n",
    "        soft_skills_table.append(skills)\n",
    "        \n",
    "    df3 = pd.DataFrame(soft_skills_table)\n",
    "    df3 = df3.sort_values(by='student_id').reset_index(drop=True)\n",
    "    return df3\n",
    "        "
   ]
  },
  {
   "cell_type": "code",
   "execution_count": 9,
   "id": "6289e039-68f7-46de-ab97-d8746a0b71c1",
   "metadata": {},
   "outputs": [],
   "source": [
    "#create_softskills_table(500)"
   ]
  },
  {
   "cell_type": "code",
   "execution_count": 11,
   "id": "f897f01a-7960-4731-870b-4086d059c981",
   "metadata": {},
   "outputs": [],
   "source": [
    "df_softskills_table = create_softskills_table(500)\n",
    "df_softskills_table.to_csv(\"softskills_table.csv\", index = False)"
   ]
  },
  {
   "cell_type": "markdown",
   "id": "5bfc3e59-9c00-4a84-9148-05195bd66719",
   "metadata": {},
   "source": [
    "#### PLACEMENT TABLE"
   ]
  },
  {
   "cell_type": "code",
   "execution_count": 9,
   "id": "281b5b96-77b7-42e5-bd2e-c8b355f40e71",
   "metadata": {},
   "outputs": [],
   "source": [
    "\n",
    "fake = Faker(\"en_IN\")\n",
    "\n",
    "def create_placement_table(num_values):\n",
    "    placement_table = []\n",
    "    \n",
    "    for _ in range(num_values):\n",
    "        placement = {}\n",
    "        placement['placement_id'] = fake.unique.random_int(min=3000, max=3500)\n",
    "        placement['student_id'] = fake.unique.random_int(min=1, max=500)\n",
    "        \n",
    "        # Use the same score for logic and record\n",
    "        mock_score = random.randint(40, 100)\n",
    "        placement['mock_interview_score'] = mock_score\n",
    "        \n",
    "        placement['internships_completed'] = random.randint(1, 3)\n",
    "        \n",
    "        # Use mock score to determine status\n",
    "        if mock_score >= 60:\n",
    "            placement_status = \"Ready\"\n",
    "        else:\n",
    "            placement_status = \"Not Ready\"\n",
    "        placement['placement_status'] = placement_status\n",
    "\n",
    "        # Randomly decide if placed\n",
    "        if placement_status == \"Ready\" and random.random() > 0.3:\n",
    "            placement['company_name'] = fake.company()\n",
    "            placement['placement_package'] = random.randint(50000, 150000)\n",
    "            placement['interview_rounds_cleared'] = random.randint(4, 5)\n",
    "            placement['placement_date'] = fake.date_this_month()\n",
    "        else:\n",
    "            placement['company_name'] = None\n",
    "            placement['placement_package'] = 0\n",
    "            placement['interview_rounds_cleared'] = 0\n",
    "            placement['placement_date'] = None\n",
    "\n",
    "        placement_table.append(placement)\n",
    "\n",
    "    df4 = pd.DataFrame(placement_table)\n",
    "    df4 = df4.sort_values(by='student_id').reset_index(drop=True)\n",
    "    \n",
    "    return df4\n"
   ]
  },
  {
   "cell_type": "code",
   "execution_count": 12,
   "id": "c97a8e5f-dfc6-47ed-89ca-f1fbd7def8e7",
   "metadata": {},
   "outputs": [],
   "source": [
    "#create_placement_table(500)"
   ]
  },
  {
   "cell_type": "code",
   "execution_count": 10,
   "id": "bef56656-df42-498c-83a9-02ee2fc2c84e",
   "metadata": {},
   "outputs": [],
   "source": [
    "df_placement_table = create_placement_table(500)\n",
    "df_placement_table.to_csv(\"placement_table.csv\", index = False)"
   ]
  }
 ],
 "metadata": {
  "kernelspec": {
   "display_name": "Python 3 (ipykernel)",
   "language": "python",
   "name": "python3"
  },
  "language_info": {
   "codemirror_mode": {
    "name": "ipython",
    "version": 3
   },
   "file_extension": ".py",
   "mimetype": "text/x-python",
   "name": "python",
   "nbconvert_exporter": "python",
   "pygments_lexer": "ipython3",
   "version": "3.12.7"
  }
 },
 "nbformat": 4,
 "nbformat_minor": 5
}
