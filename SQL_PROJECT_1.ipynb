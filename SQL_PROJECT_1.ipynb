{
 "cells": [
  {
   "cell_type": "markdown",
   "id": "f2b4ac4e-da2f-440e-a40f-1fd28eb96b38",
   "metadata": {},
   "source": [
    "## SQL DATABASE"
   ]
  },
  {
   "cell_type": "code",
   "execution_count": 1,
   "id": "353739e7-692a-452f-88f3-87aec931742c",
   "metadata": {},
   "outputs": [],
   "source": [
    "import sqlite3\n",
    "import pandas as pd\n",
    "import numpy as np"
   ]
  },
  {
   "cell_type": "code",
   "execution_count": 2,
   "id": "a2c16975-7b26-4deb-a0e2-98938d61eaea",
   "metadata": {},
   "outputs": [
    {
     "name": "stdout",
     "output_type": "stream",
     "text": [
      "Connection Established....\n"
     ]
    }
   ],
   "source": [
    "conn_sql = sqlite3.connect(\"student_data.db\") #exist/ create the database\n",
    "cursor = conn_sql.cursor()\n",
    "print(\"Connection Established....\")"
   ]
  },
  {
   "cell_type": "markdown",
   "id": "b1367305-0d41-4cb5-980d-5b91651cc32c",
   "metadata": {},
   "source": [
    "### CREATING TABLES IN SQL DATABSE"
   ]
  },
  {
   "cell_type": "code",
   "execution_count": 3,
   "id": "ba6058d0-5283-4a36-93ed-3e4c9a6507c2",
   "metadata": {},
   "outputs": [
    {
     "name": "stdout",
     "output_type": "stream",
     "text": [
      "Student Table Created Successfully.\n"
     ]
    }
   ],
   "source": [
    "cursor.execute( \"\"\"\n",
    "CREATE TABLE IF NOT EXISTS Student_Table (\n",
    "student_id INTEGER PRIMARY KEY AUTOINCREMENT,\n",
    "name TEXT,\n",
    "age INTEGER,\n",
    "gender TEXT,\n",
    "email VARCHAR,\n",
    "phone VARCHAR,\n",
    "enrollment_year INTEGER,\n",
    "course_batch TEXT,\n",
    "city TEXT,\n",
    "graduation_year INTEGER\n",
    ");\n",
    "\"\"\")\n",
    "conn_sql.commit()\n",
    "print(\"Student Table Created Successfully.\")"
   ]
  },
  {
   "cell_type": "code",
   "execution_count": 4,
   "id": "c22243cb-b8e2-4b38-9d6b-e5dadf0f15a4",
   "metadata": {},
   "outputs": [
    {
     "name": "stdout",
     "output_type": "stream",
     "text": [
      "Programming Table Created Successfully.\n"
     ]
    }
   ],
   "source": [
    "cursor.execute( \"\"\"\n",
    "CREATE TABLE IF NOT EXISTS programming_table (\n",
    "programming_id INTEGER PRIMARY KEY AUTOINCREMENT,\n",
    "student_id INTEGER ,\n",
    "language VARCHAR,\n",
    "problems_solved INTEGER,\n",
    "assessments_completed INTEGER,\n",
    "mini_projects INTEGER,\n",
    "certifications_earned INTEGER,\n",
    "latest_project_score INTEGER,\n",
    "FOREIGN KEY (student_id) REFERENCES Student_Table(student_id)\n",
    ");\n",
    "\"\"\")\n",
    "conn_sql.commit()\n",
    "print(\"Programming Table Created Successfully.\")"
   ]
  },
  {
   "cell_type": "code",
   "execution_count": 6,
   "id": "2ce803c8-e465-4d59-baa9-47ac02b4b5b5",
   "metadata": {},
   "outputs": [
    {
     "name": "stdout",
     "output_type": "stream",
     "text": [
      "Soft Skills Table Created Successfully.\n"
     ]
    }
   ],
   "source": [
    "cursor.execute( \"\"\"\n",
    "CREATE TABLE IF NOT EXISTS softskills_table (\n",
    "soft_skill_id INTEGER PRIMARY KEY AUTOINCREMENT,\n",
    "student_id INTEGER ,\n",
    "communication INTEGER,\n",
    "teamwork INTEGER,\n",
    "presentation INTEGER,\n",
    "leadership INTEGER,\n",
    "critical_thinking INTEGER,\n",
    "interpersonal_skills INTEGER,\n",
    "FOREIGN KEY (student_id) REFERENCES Student_Table(student_id)\n",
    ");\n",
    "\"\"\")\n",
    "conn_sql.commit()\n",
    "print(\"Soft Skills Table Created Successfully.\")"
   ]
  },
  {
   "cell_type": "code",
   "execution_count": 7,
   "id": "59e73dde-dc38-4c77-b972-7496814b2fba",
   "metadata": {},
   "outputs": [
    {
     "name": "stdout",
     "output_type": "stream",
     "text": [
      "Placement Table Created Successfully.\n"
     ]
    }
   ],
   "source": [
    "cursor.execute( \"\"\"\n",
    "CREATE TABLE IF NOT EXISTS placements_table (\n",
    "placement_id INTEGER PRIMARY KEY AUTOINCREMENT,\n",
    "student_id INTEGER,\n",
    "mock_interview_score INTEGER,\n",
    "internships_completed INTEGER,\n",
    "placement_status TEXT,\n",
    "company_name VARCHAR,\n",
    "placement_package INTEGER,\n",
    "interview_rounds_cleared INTEGER,\n",
    "placement_date VARCHAR,\n",
    "FOREIGN KEY (student_id) REFERENCES Student_Table(student_id)\n",
    ");\n",
    "\"\"\")\n",
    "conn_sql.commit()\n",
    "print(\"Placement Table Created Successfully.\")"
   ]
  },
  {
   "cell_type": "markdown",
   "id": "1eccf2bd-0191-4828-99fd-8bd469b4a699",
   "metadata": {},
   "source": [
    "### INSERTING DATA INTO TABLES"
   ]
  },
  {
   "cell_type": "code",
   "execution_count": 8,
   "id": "bcbdfa0e-c2ff-4a47-a3b0-d4f182994829",
   "metadata": {
    "scrolled": true
   },
   "outputs": [
    {
     "name": "stdout",
     "output_type": "stream",
     "text": [
      "Data Inserted Successfully.\n"
     ]
    }
   ],
   "source": [
    "df = pd.read_csv(\"Student_Table.csv\")\n",
    "data_st = df.values.tolist()\n",
    "query = \"\"\"\n",
    "INSERT INTO Student_Table (student_id, name, age, gender, email, phone, enrollment_year, course_batch, city, graduation_year)\n",
    "VALUES(?, ?, ?, ?, ?, ?, ?, ?, ?, ?);\n",
    "\"\"\"\n",
    "cursor.executemany(query, data_st)\n",
    "conn_sql.commit()\n",
    "print(\"Data Inserted Successfully.\")"
   ]
  },
  {
   "cell_type": "code",
   "execution_count": 9,
   "id": "901aed10-f524-4767-af44-c1703bf3c465",
   "metadata": {},
   "outputs": [
    {
     "name": "stdout",
     "output_type": "stream",
     "text": [
      "Data Inserted Successfully.\n"
     ]
    }
   ],
   "source": [
    "df_pg = pd.read_csv(\"programming_table.csv\")\n",
    "data_prog = df_pg.values.tolist()\n",
    "query = \"\"\"\n",
    "INSERT INTO programming_table (programming_id, student_id, language, problems_solved, assessments_completed, mini_projects, certifications_earned, latest_project_score)\n",
    "VALUES(?, ?, ?, ?, ?, ?, ?, ?);\n",
    "\"\"\"\n",
    "cursor.executemany(query, data_prog)\n",
    "conn_sql.commit()\n",
    "print(\"Data Inserted Successfully.\")"
   ]
  },
  {
   "cell_type": "code",
   "execution_count": 10,
   "id": "74f7dee4-e409-4e1d-8416-867e995e5318",
   "metadata": {},
   "outputs": [
    {
     "name": "stdout",
     "output_type": "stream",
     "text": [
      "Data Inserted Successfully.\n"
     ]
    }
   ],
   "source": [
    "df_sk = pd.read_csv(\"softskills_table.csv\")\n",
    "data_skills = df_sk.values.tolist()\n",
    "query = \"\"\"\n",
    "INSERT INTO softskills_table (soft_skill_id, student_id, communication, teamwork, presentation, leadership, critical_thinking, interpersonal_skills)\n",
    "VALUES(?, ?, ?, ?, ?, ?, ?, ?);\n",
    "\"\"\"\n",
    "cursor.executemany(query, data_skills)\n",
    "conn_sql.commit()\n",
    "print(\"Data Inserted Successfully.\")"
   ]
  },
  {
   "cell_type": "code",
   "execution_count": 11,
   "id": "0675299e-2b7e-4dcc-832d-9c225d3d0df1",
   "metadata": {},
   "outputs": [
    {
     "name": "stdout",
     "output_type": "stream",
     "text": [
      "Data Inserted Successfully.\n"
     ]
    }
   ],
   "source": [
    "df_plc = pd.read_csv(\"placement_table.csv\")\n",
    "data_placement = df_plc.values.tolist()\n",
    "query = \"\"\"\n",
    "INSERT INTO placements_table (placement_id, student_id, mock_interview_score, internships_completed, placement_status, company_name, placement_package, interview_rounds_cleared, placement_date)\n",
    "VALUES(?, ?, ?, ?, ?, ?, ?, ?, ?); \n",
    "\"\"\"\n",
    "cursor.executemany(query, data_placement)\n",
    "conn_sql.commit()\n",
    "print(\"Data Inserted Successfully.\")"
   ]
  },
  {
   "cell_type": "code",
   "execution_count": null,
   "id": "cad548ae-34ca-41c5-99f3-916ccfcaa0c2",
   "metadata": {},
   "outputs": [],
   "source": []
  },
  {
   "cell_type": "code",
   "execution_count": null,
   "id": "984111bc-eed0-43b5-b9ab-a4624d4565bd",
   "metadata": {},
   "outputs": [],
   "source": [
    "import pandas as pd\n",
    "import numpy as np\n",
    "import streamlit as st\n",
    "import sqlite3\n",
    "import matplotlib.pyplot as plt\n",
    "import seaborn as sns\n",
    "\n",
    "#Title of the App\n",
    "st.title(\"Placement Eligibility Application\")\n",
    "\n",
    "# Sidebar for navigation\n",
    "st.sidebar.title(\"HOME\")\n",
    "page = st.sidebar.radio(\"Go to\", [\"Eligibility Criteria\", \"Students Analytical Insights\"])\n"
   ]
  },
  {
   "cell_type": "code",
   "execution_count": null,
   "id": "571c8b94-cccd-407a-8793-2fe47f8c5477",
   "metadata": {},
   "outputs": [],
   "source": []
  }
 ],
 "metadata": {
  "kernelspec": {
   "display_name": "Python 3 (ipykernel)",
   "language": "python",
   "name": "python3"
  },
  "language_info": {
   "codemirror_mode": {
    "name": "ipython",
    "version": 3
   },
   "file_extension": ".py",
   "mimetype": "text/x-python",
   "name": "python",
   "nbconvert_exporter": "python",
   "pygments_lexer": "ipython3",
   "version": "3.12.7"
  }
 },
 "nbformat": 4,
 "nbformat_minor": 5
}
